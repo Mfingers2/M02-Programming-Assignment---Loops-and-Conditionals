{
 "cells": [
  {
   "cell_type": "code",
   "execution_count": 4,
   "id": "7ed9d394",
   "metadata": {},
   "outputs": [],
   "source": [
    "small = True"
   ]
  },
  {
   "cell_type": "code",
   "execution_count": 5,
   "id": "1ceeeede",
   "metadata": {},
   "outputs": [],
   "source": [
    "green = True"
   ]
  },
  {
   "cell_type": "code",
   "execution_count": 8,
   "id": "d1143812",
   "metadata": {},
   "outputs": [
    {
     "ename": "IndentationError",
     "evalue": "expected an indented block (1905438975.py, line 2)",
     "output_type": "error",
     "traceback": [
      "\u001b[1;36m  Input \u001b[1;32mIn [8]\u001b[1;36m\u001b[0m\n\u001b[1;33m    if green:\u001b[0m\n\u001b[1;37m    ^\u001b[0m\n\u001b[1;31mIndentationError\u001b[0m\u001b[1;31m:\u001b[0m expected an indented block\n"
     ]
    }
   ],
   "source": [
    "if small:\n",
    "    if green:"
   ]
  },
  {
   "cell_type": "code",
   "execution_count": 9,
   "id": "74642ae0",
   "metadata": {},
   "outputs": [
    {
     "name": "stdout",
     "output_type": "stream",
     "text": [
      "It's a pea\n"
     ]
    }
   ],
   "source": [
    "print(\"It's a pea\")\n",
    "else:\n",
    "    print(\"It's a cherry\")"
   ]
  },
  {
   "cell_type": "code",
   "execution_count": 11,
   "id": "a626718d",
   "metadata": {},
   "outputs": [
    {
     "ename": "SyntaxError",
     "evalue": "invalid syntax (2052267991.py, line 1)",
     "output_type": "error",
     "traceback": [
      "\u001b[1;36m  Input \u001b[1;32mIn [11]\u001b[1;36m\u001b[0m\n\u001b[1;33m    else:\u001b[0m\n\u001b[1;37m    ^\u001b[0m\n\u001b[1;31mSyntaxError\u001b[0m\u001b[1;31m:\u001b[0m invalid syntax\n"
     ]
    }
   ],
   "source": [
    "else:\n",
    "    if green:"
   ]
  },
  {
   "cell_type": "code",
   "execution_count": 12,
   "id": "a3ec2ae4",
   "metadata": {},
   "outputs": [
    {
     "ename": "SyntaxError",
     "evalue": "invalid syntax (3981256597.py, line 2)",
     "output_type": "error",
     "traceback": [
      "\u001b[1;36m  Input \u001b[1;32mIn [12]\u001b[1;36m\u001b[0m\n\u001b[1;33m    else:\u001b[0m\n\u001b[1;37m    ^\u001b[0m\n\u001b[1;31mSyntaxError\u001b[0m\u001b[1;31m:\u001b[0m invalid syntax\n"
     ]
    }
   ],
   "source": [
    "print(\"It's a watermelon\")\n",
    "else:\n",
    "    print(\"It's a pumpkin\")"
   ]
  },
  {
   "cell_type": "code",
   "execution_count": null,
   "id": "998719bc",
   "metadata": {},
   "outputs": [],
   "source": []
  }
 ],
 "metadata": {
  "kernelspec": {
   "display_name": "Python 3 (ipykernel)",
   "language": "python",
   "name": "python3"
  },
  "language_info": {
   "codemirror_mode": {
    "name": "ipython",
    "version": 3
   },
   "file_extension": ".py",
   "mimetype": "text/x-python",
   "name": "python",
   "nbconvert_exporter": "python",
   "pygments_lexer": "ipython3",
   "version": "3.9.12"
  }
 },
 "nbformat": 4,
 "nbformat_minor": 5
}
