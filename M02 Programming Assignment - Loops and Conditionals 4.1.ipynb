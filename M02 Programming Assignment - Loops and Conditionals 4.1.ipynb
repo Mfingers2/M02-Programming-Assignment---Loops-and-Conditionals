{
 "cells": [
  {
   "cell_type": "code",
   "execution_count": 1,
   "id": "660419a8",
   "metadata": {},
   "outputs": [],
   "source": [
    "secret = 2"
   ]
  },
  {
   "cell_type": "code",
   "execution_count": 2,
   "id": "fe490cd9",
   "metadata": {},
   "outputs": [],
   "source": [
    "guess = 5"
   ]
  },
  {
   "cell_type": "code",
   "execution_count": 3,
   "id": "c74d9697",
   "metadata": {},
   "outputs": [],
   "source": [
    "if guess < secret:\n",
    "    print ('too low')"
   ]
  },
  {
   "cell_type": "code",
   "execution_count": 4,
   "id": "7a0abc7f",
   "metadata": {},
   "outputs": [
    {
     "ename": "SyntaxError",
     "evalue": "invalid syntax (729264107.py, line 1)",
     "output_type": "error",
     "traceback": [
      "\u001b[1;36m  Input \u001b[1;32mIn [4]\u001b[1;36m\u001b[0m\n\u001b[1;33m    elif guess > secret:\u001b[0m\n\u001b[1;37m    ^\u001b[0m\n\u001b[1;31mSyntaxError\u001b[0m\u001b[1;31m:\u001b[0m invalid syntax\n"
     ]
    }
   ],
   "source": [
    "elif guess > secret:\n",
    "    print ('too high')"
   ]
  },
  {
   "cell_type": "code",
   "execution_count": 5,
   "id": "b105e66e",
   "metadata": {},
   "outputs": [
    {
     "ename": "SyntaxError",
     "evalue": "invalid syntax (1050275894.py, line 1)",
     "output_type": "error",
     "traceback": [
      "\u001b[1;36m  Input \u001b[1;32mIn [5]\u001b[1;36m\u001b[0m\n\u001b[1;33m    else:\u001b[0m\n\u001b[1;37m    ^\u001b[0m\n\u001b[1;31mSyntaxError\u001b[0m\u001b[1;31m:\u001b[0m invalid syntax\n"
     ]
    }
   ],
   "source": [
    "else:\n",
    "    print ('just right')"
   ]
  },
  {
   "cell_type": "code",
   "execution_count": null,
   "id": "1abc0d42",
   "metadata": {},
   "outputs": [],
   "source": []
  }
 ],
 "metadata": {
  "kernelspec": {
   "display_name": "Python 3 (ipykernel)",
   "language": "python",
   "name": "python3"
  },
  "language_info": {
   "codemirror_mode": {
    "name": "ipython",
    "version": 3
   },
   "file_extension": ".py",
   "mimetype": "text/x-python",
   "name": "python",
   "nbconvert_exporter": "python",
   "pygments_lexer": "ipython3",
   "version": "3.9.12"
  }
 },
 "nbformat": 4,
 "nbformat_minor": 5
}
